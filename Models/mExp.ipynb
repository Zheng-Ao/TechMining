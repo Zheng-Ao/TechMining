{
 "cells": [
  {
   "cell_type": "markdown",
   "metadata": {},
   "source": [
    "# 基于专利指标的专利未来影响力研究"
   ]
  },
  {
   "cell_type": "markdown",
   "metadata": {},
   "source": [
    "先走一遍流程，然后是文本特征、图特征的加入。\n",
    "\n",
    "Features:\n",
    "\n",
    "见参考专利指标汇总（图）。"
   ]
  },
  {
   "cell_type": "code",
   "execution_count": null,
   "metadata": {},
   "outputs": [],
   "source": [
    "'''\n",
    "先用现有的东西做一个简单的模型。\n",
    "\n",
    "'''\n",
    "\n",
    "\n",
    "\n",
    "# 测试下载100个样本进行第一个试验。"
   ]
  }
 ],
 "metadata": {
  "language_info": {
   "name": "python"
  },
  "orig_nbformat": 4
 },
 "nbformat": 4,
 "nbformat_minor": 2
}
