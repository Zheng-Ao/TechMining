{
 "cells": [
  {
   "cell_type": "markdown",
   "metadata": {},
   "source": [
    "# 构建Dataset"
   ]
  },
  {
   "cell_type": "code",
   "execution_count": 1,
   "metadata": {},
   "outputs": [],
   "source": [
    "from Souper import Souper\n",
    "import pandas as pd\n",
    "\n",
    "from tqdm import tqdm\n",
    "\n",
    "\n",
    "df = pd.read_csv(\"./PNs/36.csv\")\n",
    "ls = [x[1] for x in df.values]"
   ]
  },
  {
   "cell_type": "code",
   "execution_count": 2,
   "metadata": {},
   "outputs": [
    {
     "data": {
      "text/plain": [
       "'5,022,497'"
      ]
     },
     "execution_count": 2,
     "metadata": {},
     "output_type": "execute_result"
    }
   ],
   "source": [
    "ls_test = ls[:11] + ls[12:]\n",
    "\n",
    "len(ls_test)\n",
    "\n",
    "ls_test[59]"
   ]
  },
  {
   "cell_type": "code",
   "execution_count": 3,
   "metadata": {},
   "outputs": [
    {
     "name": "stderr",
     "output_type": "stream",
     "text": [
      "100%|██████████| 564/564 [00:20<00:00, 27.62it/s]\n"
     ]
    }
   ],
   "source": [
    "Data = []           # list of dict\n",
    "\n",
    "for pn in tqdm(ls_test):\n",
    "    try:\n",
    "        s = Souper(pn)\n",
    "        s.getFeatures()\n",
    "        Data.append(s.dict)\n",
    "        \n",
    "    except Exception as ex:\n",
    "        print(\"{}采集出错，出错原因：{}\".format(pn, ex))\n",
    "            \n",
    "     \n",
    "    "
   ]
  },
  {
   "cell_type": "code",
   "execution_count": 4,
   "metadata": {},
   "outputs": [],
   "source": [
    "Data = pd.DataFrame(Data)\n",
    "del Data['TTL'], Data['ABST'], Data['ACLM']"
   ]
  },
  {
   "cell_type": "code",
   "execution_count": 6,
   "metadata": {},
   "outputs": [],
   "source": [
    "Data.to_csv(\"./GT36.csv\")       # GNN TEST 36"
   ]
  },
  {
   "cell_type": "code",
   "execution_count": 5,
   "metadata": {},
   "outputs": [
    {
     "data": {
      "text/html": [
       "<div>\n",
       "<style scoped>\n",
       "    .dataframe tbody tr th:only-of-type {\n",
       "        vertical-align: middle;\n",
       "    }\n",
       "\n",
       "    .dataframe tbody tr th {\n",
       "        vertical-align: top;\n",
       "    }\n",
       "\n",
       "    .dataframe thead th {\n",
       "        text-align: right;\n",
       "    }\n",
       "</style>\n",
       "<table border=\"1\" class=\"dataframe\">\n",
       "  <thead>\n",
       "    <tr style=\"text-align: right;\">\n",
       "      <th></th>\n",
       "      <th>PN</th>\n",
       "      <th>REF</th>\n",
       "      <th>ISD</th>\n",
       "      <th>CPC</th>\n",
       "      <th>IPC</th>\n",
       "      <th>b_cits</th>\n",
       "    </tr>\n",
       "  </thead>\n",
       "  <tbody>\n",
       "    <tr>\n",
       "      <th>0</th>\n",
       "      <td>4965743</td>\n",
       "      <td>157</td>\n",
       "      <td>1990-10-23</td>\n",
       "      <td>6</td>\n",
       "      <td>4</td>\n",
       "      <td>[4642782, 4649515, 4658370, 4675829, 4796194]</td>\n",
       "    </tr>\n",
       "    <tr>\n",
       "      <th>1</th>\n",
       "      <td>4922432</td>\n",
       "      <td>174</td>\n",
       "      <td>1990-05-01</td>\n",
       "      <td>2</td>\n",
       "      <td>2</td>\n",
       "      <td>[4635208, 4638442, 4648044, 4651284, 4656603, ...</td>\n",
       "    </tr>\n",
       "    <tr>\n",
       "      <th>2</th>\n",
       "      <td>4918621</td>\n",
       "      <td>20</td>\n",
       "      <td>1990-04-17</td>\n",
       "      <td>1</td>\n",
       "      <td>2</td>\n",
       "      <td>[4675829]</td>\n",
       "    </tr>\n",
       "    <tr>\n",
       "      <th>3</th>\n",
       "      <td>4890240</td>\n",
       "      <td>36</td>\n",
       "      <td>1989-12-26</td>\n",
       "      <td>1</td>\n",
       "      <td>3</td>\n",
       "      <td>[NULL]</td>\n",
       "    </tr>\n",
       "    <tr>\n",
       "      <th>4</th>\n",
       "      <td>4866628</td>\n",
       "      <td>54</td>\n",
       "      <td>1989-09-12</td>\n",
       "      <td>8</td>\n",
       "      <td>6</td>\n",
       "      <td>[NULL]</td>\n",
       "    </tr>\n",
       "    <tr>\n",
       "      <th>...</th>\n",
       "      <td>...</td>\n",
       "      <td>...</td>\n",
       "      <td>...</td>\n",
       "      <td>...</td>\n",
       "      <td>...</td>\n",
       "      <td>...</td>\n",
       "    </tr>\n",
       "    <tr>\n",
       "      <th>559</th>\n",
       "      <td>9742753</td>\n",
       "      <td>8</td>\n",
       "      <td>2017-08-22</td>\n",
       "      <td>5</td>\n",
       "      <td>4</td>\n",
       "      <td>[8103947, 8589440, 8775951, 8793579, 8856638, ...</td>\n",
       "    </tr>\n",
       "    <tr>\n",
       "      <th>560</th>\n",
       "      <td>9736309</td>\n",
       "      <td>2</td>\n",
       "      <td>2017-08-15</td>\n",
       "      <td>7</td>\n",
       "      <td>5</td>\n",
       "      <td>[NULL]</td>\n",
       "    </tr>\n",
       "    <tr>\n",
       "      <th>561</th>\n",
       "      <td>9723544</td>\n",
       "      <td>0</td>\n",
       "      <td>2017-08-01</td>\n",
       "      <td>5</td>\n",
       "      <td>7</td>\n",
       "      <td>[5915225, 6160903, 6387027, 6498861, 7177642, ...</td>\n",
       "    </tr>\n",
       "    <tr>\n",
       "      <th>562</th>\n",
       "      <td>9723005</td>\n",
       "      <td>6</td>\n",
       "      <td>2017-08-01</td>\n",
       "      <td>7</td>\n",
       "      <td>2</td>\n",
       "      <td>[NULL]</td>\n",
       "    </tr>\n",
       "    <tr>\n",
       "      <th>563</th>\n",
       "      <td>9720998</td>\n",
       "      <td>30</td>\n",
       "      <td>2017-08-01</td>\n",
       "      <td>1</td>\n",
       "      <td>1</td>\n",
       "      <td>[5832182, 6374251, 8909563, 9336302, 2004/0117...</td>\n",
       "    </tr>\n",
       "  </tbody>\n",
       "</table>\n",
       "<p>564 rows × 6 columns</p>\n",
       "</div>"
      ],
      "text/plain": [
       "          PN  REF        ISD  CPC  IPC  \\\n",
       "0    4965743  157 1990-10-23    6    4   \n",
       "1    4922432  174 1990-05-01    2    2   \n",
       "2    4918621   20 1990-04-17    1    2   \n",
       "3    4890240   36 1989-12-26    1    3   \n",
       "4    4866628   54 1989-09-12    8    6   \n",
       "..       ...  ...        ...  ...  ...   \n",
       "559  9742753    8 2017-08-22    5    4   \n",
       "560  9736309    2 2017-08-15    7    5   \n",
       "561  9723544    0 2017-08-01    5    7   \n",
       "562  9723005    6 2017-08-01    7    2   \n",
       "563  9720998   30 2017-08-01    1    1   \n",
       "\n",
       "                                                b_cits  \n",
       "0        [4642782, 4649515, 4658370, 4675829, 4796194]  \n",
       "1    [4635208, 4638442, 4648044, 4651284, 4656603, ...  \n",
       "2                                            [4675829]  \n",
       "3                                               [NULL]  \n",
       "4                                               [NULL]  \n",
       "..                                                 ...  \n",
       "559  [8103947, 8589440, 8775951, 8793579, 8856638, ...  \n",
       "560                                             [NULL]  \n",
       "561  [5915225, 6160903, 6387027, 6498861, 7177642, ...  \n",
       "562                                             [NULL]  \n",
       "563  [5832182, 6374251, 8909563, 9336302, 2004/0117...  \n",
       "\n",
       "[564 rows x 6 columns]"
      ]
     },
     "execution_count": 5,
     "metadata": {},
     "output_type": "execute_result"
    }
   ],
   "source": [
    "Data"
   ]
  },
  {
   "cell_type": "code",
   "execution_count": null,
   "metadata": {},
   "outputs": [],
   "source": [
    "str = '   22'\n",
    "str.replace('*', '')"
   ]
  },
  {
   "cell_type": "markdown",
   "metadata": {},
   "source": [
    "# 对特定PN进行Soup测试"
   ]
  },
  {
   "cell_type": "code",
   "execution_count": null,
   "metadata": {},
   "outputs": [],
   "source": [
    "from bs4 import BeautifulSoup\n",
    "\n",
    "with open('./htmls/5,022,497.html') as file:\n",
    "    html = file.read()\n",
    "\n",
    "soup = BeautifulSoup(html, 'html.parser')"
   ]
  },
  {
   "cell_type": "code",
   "execution_count": null,
   "metadata": {},
   "outputs": [],
   "source": [
    "p = soup.body.find_all('p', recursive=False)[1]\n",
    "p_tables = p.find_all('table', recursive = False)\n",
    "p_tables[1]"
   ]
  },
  {
   "cell_type": "code",
   "execution_count": null,
   "metadata": {},
   "outputs": [],
   "source": [
    "soup.find_all('b', text = 'U.S. Patent Documents')"
   ]
  },
  {
   "cell_type": "code",
   "execution_count": null,
   "metadata": {},
   "outputs": [],
   "source": []
  }
 ],
 "metadata": {
  "kernelspec": {
   "display_name": "Python 3.8.9 ('venv')",
   "language": "python",
   "name": "python3"
  },
  "language_info": {
   "codemirror_mode": {
    "name": "ipython",
    "version": 3
   },
   "file_extension": ".py",
   "mimetype": "text/x-python",
   "name": "python",
   "nbconvert_exporter": "python",
   "pygments_lexer": "ipython3",
   "version": "3.8.9"
  },
  "orig_nbformat": 4,
  "vscode": {
   "interpreter": {
    "hash": "500c9b9c4e8579b4f5fb74750ce1d055075c7eea2b0506f0898fca7d84e8b569"
   }
  }
 },
 "nbformat": 4,
 "nbformat_minor": 2
}
