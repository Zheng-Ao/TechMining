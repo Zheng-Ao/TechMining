{
 "cells": [
  {
   "cell_type": "code",
   "execution_count": null,
   "metadata": {},
   "outputs": [],
   "source": [
    "import numpy as np\n",
    "import pandas as pd\n",
    "import matplotlib.pyplot as plt\n",
    "\n",
    "from tqdm import tqdm\n",
    "import re\n",
    "\n",
    "path = '/Users/zhengao/Documents/TechMining'"
   ]
  },
  {
   "cell_type": "code",
   "execution_count": null,
   "metadata": {},
   "outputs": [],
   "source": [
    "a = '/Data/PAs_test100.csv'\n",
    "DATA = pd.read_csv(path + a)"
   ]
  },
  {
   "cell_type": "code",
   "execution_count": null,
   "metadata": {},
   "outputs": [],
   "source": [
    "# 检查空值\n",
    "# DATA[DATA.isnull().values == True]"
   ]
  },
  {
   "cell_type": "code",
   "execution_count": null,
   "metadata": {},
   "outputs": [],
   "source": [
    "del DATA['_TTL'], DATA['_ABST'], DATA['_ISD']\n",
    "DATA['_ACLM'][43] = '\\n 8.'\n",
    "DATA['_ACLM'][47] = '\\n 9'"
   ]
  },
  {
   "cell_type": "code",
   "execution_count": null,
   "metadata": {},
   "outputs": [],
   "source": [
    "# 对每一行数据预处理，将爬取的字符串转换为合适的数据结构\n",
    "\n",
    "for i in range(len(DATA)):\n",
    "    # process one sample\n",
    "    DATA['_CPC'][i] = DATA['_CPC'][i].count(';') + 1\n",
    "    DATA['_IPC'][i] = DATA['_IPC'][i].count(';') + 1\n",
    "    DATA['b_cits'][i] = len(eval(DATA['b_cits'][i]))\n",
    "    DATA['f_cits'][i] = eval(DATA['f_cits'][i])[0]\n",
    "    aclm = DATA['_ACLM'][i]\n",
    "    aclm_ls = re.findall('\\n \\d.', aclm)\n",
    "\n",
    "    if len(aclm_ls) == 0:\n",
    "        DATA['_ACLM'][i] = 1\n",
    "    else:\n",
    "        aclm_num = aclm_ls[-1]\n",
    "        aclm_num = eval(aclm_num.strip('\\n'))\n",
    "        DATA['_ACLM'][i] = aclm_num"
   ]
  },
  {
   "cell_type": "code",
   "execution_count": null,
   "metadata": {},
   "outputs": [],
   "source": [
    "'''\n",
    "DATA: Raw data for this model.\n",
    "Data: Standard data for this model.\n",
    "data: A specific sample.\n",
    "'''\n",
    "Data = DATA\n",
    "for i in range(len(Data)):\n",
    "    if Data['f_cits'][i] > 4:\n",
    "        Data['f_cits'][i] = 1\n",
    "    else:\n",
    "        Data['f_cits'][i] = 0"
   ]
  },
  {
   "cell_type": "code",
   "execution_count": null,
   "metadata": {},
   "outputs": [],
   "source": [
    "# num = Data['f_cits'].values.sum()\n",
    "# print((100-num)/num)\n",
    "'''\n",
    "16:84 = 1:5.25\n",
    "'''"
   ]
  },
  {
   "cell_type": "markdown",
   "metadata": {},
   "source": [
    "# Model: 传统结构化特征"
   ]
  },
  {
   "cell_type": "code",
   "execution_count": 106,
   "metadata": {},
   "outputs": [],
   "source": [
    "from sklearn.model_selection import train_test_split\n",
    "from sklearn.linear_model import LogisticRegression\n",
    "from sklearn.metrics import classification_report, roc_auc_score\n",
    "\n",
    "\n",
    "# Data.head()"
   ]
  },
  {
   "cell_type": "code",
   "execution_count": 96,
   "metadata": {},
   "outputs": [
    {
     "data": {
      "text/plain": [
       "0      True\n",
       "1     False\n",
       "2     False\n",
       "3     False\n",
       "4     False\n",
       "      ...  \n",
       "95    False\n",
       "96    False\n",
       "97    False\n",
       "98    False\n",
       "99    False\n",
       "Name: f_cits, Length: 100, dtype: bool"
      ]
     },
     "execution_count": 96,
     "metadata": {},
     "output_type": "execute_result"
    }
   ],
   "source": [
    "# X:(n_samples, n_features)\n",
    "X = Data.loc[:, '_CPC':'_ACLM']\n",
    "del X['f_cits']\n",
    "\n",
    "# Y: (n_samples, )\n",
    "Y = Data.loc[:, 'f_cits']\n",
    "Y = Y.astype('bool')\n",
    "Y"
   ]
  },
  {
   "cell_type": "code",
   "execution_count": 97,
   "metadata": {},
   "outputs": [],
   "source": [
    "X_train,X_test,Y_train,Y_test = train_test_split(X, Y, train_size=0.8)\n",
    "\n",
    "\n"
   ]
  },
  {
   "cell_type": "code",
   "execution_count": 98,
   "metadata": {},
   "outputs": [
    {
     "data": {
      "text/plain": [
       "LogisticRegression()"
      ]
     },
     "execution_count": 98,
     "metadata": {},
     "output_type": "execute_result"
    }
   ],
   "source": [
    "mLR = LogisticRegression()\n",
    "mLR.fit(X_train, Y_train)\n"
   ]
  },
  {
   "cell_type": "code",
   "execution_count": 100,
   "metadata": {},
   "outputs": [
    {
     "data": {
      "text/plain": [
       "0.8"
      ]
     },
     "execution_count": 100,
     "metadata": {},
     "output_type": "execute_result"
    }
   ],
   "source": [
    "# mLR.score(X_test, Y_test)"
   ]
  },
  {
   "cell_type": "code",
   "execution_count": 103,
   "metadata": {},
   "outputs": [],
   "source": [
    "y_pred = mLR.predict(X_test)"
   ]
  },
  {
   "cell_type": "code",
   "execution_count": 110,
   "metadata": {},
   "outputs": [
    {
     "name": "stdout",
     "output_type": "stream",
     "text": [
      "              precision    recall  f1-score   support\n",
      "\n",
      "       False       0.80      1.00      0.89        16\n",
      "        True       0.00      0.00      0.00         4\n",
      "\n",
      "    accuracy                           0.80        20\n",
      "   macro avg       0.40      0.50      0.44        20\n",
      "weighted avg       0.64      0.80      0.71        20\n",
      "\n",
      "0.5\n"
     ]
    },
    {
     "name": "stderr",
     "output_type": "stream",
     "text": [
      "/Users/zhengao/PycharmProjects/pyAcademic/venv/lib/python3.8/site-packages/sklearn/metrics/_classification.py:1318: UndefinedMetricWarning: Precision and F-score are ill-defined and being set to 0.0 in labels with no predicted samples. Use `zero_division` parameter to control this behavior.\n",
      "  _warn_prf(average, modifier, msg_start, len(result))\n",
      "/Users/zhengao/PycharmProjects/pyAcademic/venv/lib/python3.8/site-packages/sklearn/metrics/_classification.py:1318: UndefinedMetricWarning: Precision and F-score are ill-defined and being set to 0.0 in labels with no predicted samples. Use `zero_division` parameter to control this behavior.\n",
      "  _warn_prf(average, modifier, msg_start, len(result))\n",
      "/Users/zhengao/PycharmProjects/pyAcademic/venv/lib/python3.8/site-packages/sklearn/metrics/_classification.py:1318: UndefinedMetricWarning: Precision and F-score are ill-defined and being set to 0.0 in labels with no predicted samples. Use `zero_division` parameter to control this behavior.\n",
      "  _warn_prf(average, modifier, msg_start, len(result))\n"
     ]
    }
   ],
   "source": [
    "print(classification_report(Y_test, y_pred))\n",
    "\n",
    "# print(mLR.coef_, mLR.intercept_)\n",
    "\n",
    "print(roc_auc_score(Y_test, y_pred))\n"
   ]
  },
  {
   "cell_type": "code",
   "execution_count": null,
   "metadata": {},
   "outputs": [],
   "source": []
  }
 ],
 "metadata": {
  "kernelspec": {
   "display_name": "Python 3.8.9 ('venv')",
   "language": "python",
   "name": "python3"
  },
  "language_info": {
   "codemirror_mode": {
    "name": "ipython",
    "version": 3
   },
   "file_extension": ".py",
   "mimetype": "text/x-python",
   "name": "python",
   "nbconvert_exporter": "python",
   "pygments_lexer": "ipython3",
   "version": "3.8.9"
  },
  "orig_nbformat": 4,
  "vscode": {
   "interpreter": {
    "hash": "500c9b9c4e8579b4f5fb74750ce1d055075c7eea2b0506f0898fca7d84e8b569"
   }
  }
 },
 "nbformat": 4,
 "nbformat_minor": 2
}
